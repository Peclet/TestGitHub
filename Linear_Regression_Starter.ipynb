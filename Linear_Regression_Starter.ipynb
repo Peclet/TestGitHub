{
  "nbformat": 4,
  "nbformat_minor": 0,
  "metadata": {
    "colab": {
      "name": "Linear Regression Starter.ipynb",
      "provenance": [],
      "private_outputs": true,
      "collapsed_sections": [
        "QfV3uZE4bRhR"
      ],
      "toc_visible": true,
      "include_colab_link": true
    },
    "kernelspec": {
      "display_name": "Python 3",
      "language": "python",
      "name": "python3"
    }
  },
  "cells": [
    {
      "cell_type": "markdown",
      "metadata": {
        "id": "view-in-github",
        "colab_type": "text"
      },
      "source": [
        "<a href=\"https://colab.research.google.com/github/Peclet/TestGitHub/blob/master/Linear_Regression_Starter.ipynb\" target=\"_parent\"><img src=\"https://colab.research.google.com/assets/colab-badge.svg\" alt=\"Open In Colab\"/></a>"
      ]
    },
    {
      "cell_type": "markdown",
      "metadata": {
        "id": "SpvFGIyobRhN",
        "colab_type": "text"
      },
      "source": [
        "# Assignment 2: Linear Regression\n",
        "\n",
        "Adapted from https://github.com/dibgerge/ml-coursera-python-assignments. You shouldn't need to install anything different than you did for Assignment 1, but you can find instructions on how to install required libraries in the README file in the [github repository](https://github.com/dibgerge/ml-coursera-python-assignments).\n",
        "\n",
        "## Introduction\n",
        "\n",
        "In this exercise, you will implement linear regression and get to see it work on data. All the information you need for solving this assignment is in this notebook, and all the code you will be implementing will take place within this notebook."
      ]
    },
    {
      "cell_type": "code",
      "metadata": {
        "id": "82xOOfAmbRhP",
        "colab_type": "code",
        "cellView": "both",
        "colab": {}
      },
      "source": [
        "import os\n",
        "import numpy as np\n",
        "import matplotlib.pyplot as plt\n",
        "from mpl_toolkits.mplot3d import Axes3D  # needed to plot 3-D surfaces\n",
        "\n",
        "# tells matplotlib to embed plots within the notebook\n",
        "%matplotlib inline\n",
        "plt.style.use('ggplot')"
      ],
      "execution_count": 0,
      "outputs": []
    },
    {
      "cell_type": "markdown",
      "metadata": {
        "id": "QfV3uZE4bRhR",
        "colab_type": "text"
      },
      "source": [
        "## Debugging and Other Tips\n",
        "\n",
        "Here are some things to keep in mind throughout this exercise:\n",
        "\n",
        "- There is an important distinction between python arrays (called `list` or `tuple`) and `numpy` arrays. You should use `numpy` arrays in all your computations. Vector/matrix operations work only with `numpy` arrays. Python lists do not support vector operations (you need to use for loops).\n",
        "\n",
        "- If you are seeing many errors at runtime, inspect your matrix operations to make sure that you are adding and multiplying matrices of compatible dimensions. Printing the dimensions of `numpy` arrays using the `shape` property will help you debug.\n",
        "\n",
        "- By default, `numpy` interprets math operators to be element-wise operators. If you want to do matrix multiplication, you need to use the `dot` function in `numpy` or the @ symbol. For, example if `A` and `B` are two `numpy` matrices, then the matrix operation AB is `np.dot(A, B)`. Note that for 2-dimensional matrices or vectors (1-dimensional), this is also equivalent to `A@B` (requires python >= 3.5).\n",
        "\n",
        "- To quickly learn more about the `matplotlib` plot function and what arguments you can provide to it, you can type `?plt.plot` in a cell within the Jupyter notebook. This opens a separate page showing the documentation for the requested function. You can also search online for plotting documentation. "
      ]
    },
    {
      "cell_type": "markdown",
      "metadata": {
        "id": "f7GCbpIDSdyC",
        "colab_type": "text"
      },
      "source": [
        "## Dataset\n",
        "\n",
        "We will be using a modified version of the Boston Housing price dataset (https://www.kaggle.com/c/boston-housing) for this assignment.  It contains 13 input features and one target value.\n",
        "\n",
        "*  CRIM - per capita crime rate by town\n",
        "* ZN - proportion of residential land zoned for lots over 25,000 sq.ft.\n",
        "* INDUS - proportion of non-retail business acres per town.\n",
        "* NOX - nitric oxides concentration (parts per 10 million)\n",
        "* RM - average number of rooms per dwelling\n",
        "* AGE - proportion of owner-occupied units built prior to 1940\n",
        "* DIS - weighted distances to five Boston employment centres\n",
        "* RAD - index of accessibility to radial highways\n",
        "* TAX - full-value property-tax rate per ```$```10,000\n",
        "* PTRATIO - pupil-teacher ratio by town\n",
        "* target - Median value of owner-occupied homes in ```$```1000's\n",
        "\n",
        "\n"
      ]
    },
    {
      "cell_type": "code",
      "metadata": {
        "id": "gdf5pF6LSfhC",
        "colab_type": "code",
        "colab": {}
      },
      "source": [
        "from sklearn.datasets import load_boston\n",
        "import pandas as pd\n",
        "from pandas.plotting import scatter_matrix\n",
        "\n",
        "# load the data\n",
        "dataset = load_boston()\n",
        "df = pd.DataFrame(dataset.data, columns=dataset.feature_names)\n",
        "df['target'] = dataset.target\n",
        "df = df.drop(labels=['CHAS','B', 'LSTAT'],axis=1)\n",
        "\n",
        "m = df.shape[0]\n",
        "\n",
        "# summarize contents of dataset\n",
        "df.describe()"
      ],
      "execution_count": 0,
      "outputs": []
    },
    {
      "cell_type": "code",
      "metadata": {
        "id": "fdZMgQN1Ta_l",
        "colab_type": "code",
        "colab": {}
      },
      "source": [
        "# visualize contents of dataset\n",
        "scatter_matrix(df, figsize=(15,15));"
      ],
      "execution_count": 0,
      "outputs": []
    },
    {
      "cell_type": "markdown",
      "metadata": {
        "id": "7UBuZzUrbRhd",
        "colab_type": "text"
      },
      "source": [
        "## Linear regression with one variable\n",
        "\n",
        "Now you will implement linear regression with one variable to predict the home price.  The dataset is loaded from the dataframe into the variables `x` and `y`:"
      ]
    },
    {
      "cell_type": "code",
      "metadata": {
        "id": "fqhLaAMQbRhd",
        "colab_type": "code",
        "colab": {}
      },
      "source": [
        "X = df.RM.values.reshape(-1,1)\n",
        "y = df.target.values.reshape(-1,1)"
      ],
      "execution_count": 0,
      "outputs": []
    },
    {
      "cell_type": "markdown",
      "metadata": {
        "id": "PnYiDqlVbRhh",
        "colab_type": "text"
      },
      "source": [
        "### Plotting the Data\n",
        "\n",
        "In the following part, your first job is to complete the `plotData` function below. Modify the function and fill in the following code:\n",
        "\n",
        "```python\n",
        "    plt.plot(x, y, 'ro', ms=10, mec='k')\n",
        "    plt.ylabel('Home Price ($1,000)')\n",
        "    plt.xlabel('Number of Rooms')\n",
        "```"
      ]
    },
    {
      "cell_type": "code",
      "metadata": {
        "id": "84nXZq6kbRhi",
        "colab_type": "code",
        "colab": {}
      },
      "source": [
        "def plotData(x, y):\n",
        "    \"\"\"\n",
        "    Plots the data points x and y into a new figure.\n",
        "    \n",
        "    Parameters\n",
        "    ----------\n",
        "    x : array_like\n",
        "        Data point values for x-axis.\n",
        "\n",
        "    y : array_like\n",
        "        Data point values for y-axis. Note x and y should have the same size.\n",
        "    \n",
        "    Instructions\n",
        "    ------------\n",
        "    Plot the training data into a figure using the \"figure\" and \"plot\"\n",
        "    functions. Set the axes labels using the \"xlabel\" and \"ylabel\" functions.\n",
        "    Assume the population and revenue data have been passed in as the x\n",
        "    and y arguments of this function.    \n",
        "    \n",
        "    Hint\n",
        "    ----\n",
        "    You can use the 'ro' option with plot to have the markers\n",
        "    appear as red circles. Furthermore, you can make the markers larger by\n",
        "    using plot(..., 'ro', ms=10), where `ms` refers to marker size. You \n",
        "    can also set the marker edge color using the `mec` property.\n",
        "    \"\"\"\n",
        "    fig = plt.figure()  # open a new figure\n",
        "    \n",
        "    # ====================== YOUR CODE HERE ======================= \n",
        "\n",
        "    # =============================================================\n"
      ],
      "execution_count": 0,
      "outputs": []
    },
    {
      "cell_type": "code",
      "metadata": {
        "id": "8D8pM6MIbRho",
        "colab_type": "code",
        "colab": {}
      },
      "source": [
        "plotData(X, y)"
      ],
      "execution_count": 0,
      "outputs": []
    },
    {
      "cell_type": "markdown",
      "metadata": {
        "id": "0fIofR14jOCc",
        "colab_type": "text"
      },
      "source": [
        "### The Easy Way\n",
        "\n",
        "We will fit a linear regression model using the built-in scikit learn function."
      ]
    },
    {
      "cell_type": "code",
      "metadata": {
        "id": "zZ9-YrnvjOL2",
        "colab_type": "code",
        "colab": {}
      },
      "source": [
        "from sklearn import linear_model\n",
        "regr = linear_model.LinearRegression()\n",
        "regr.fit(X, y)\n",
        "\n",
        "# plot the linear fit\n",
        "plotData(X, y)\n",
        "plt.plot(X, regr.predict(X),'-')\n",
        "plt.legend(['Training data', 'Linear regression']);\n",
        "\n",
        "theta_opt = np.array([regr.intercept_[0],regr.coef_[0]])\n",
        "print(\"Optimal Model Parameters: {}\".format(theta_opt))\n",
        "\n",
        "plt.figure()\n",
        "plt.plot(y, regr.predict(X), '.')\n",
        "plt.xlabel('True Value');\n",
        "plt.ylabel('Predicted Value')"
      ],
      "execution_count": 0,
      "outputs": []
    },
    {
      "cell_type": "markdown",
      "metadata": {
        "id": "3YQLet_ibRhv",
        "colab_type": "text"
      },
      "source": [
        "### Gradient Descent\n",
        "\n",
        "In this part, you will fit the linear regression parameters $\\theta$ to our dataset using gradient descent.\n",
        "\n",
        "#### Update Equations\n",
        "\n",
        "The objective of linear regression is to minimize the cost function\n",
        "\n",
        "$$ J(\\theta) = \\frac{1}{2m} \\sum_{i=1}^m \\left( h_{\\theta}(x^{(i)}) - y^{(i)}\\right)^2$$\n",
        "\n",
        "where the hypothesis $h_\\theta(x)$ is given by the linear model\n",
        "$$ h_\\theta(x) = \\theta^Tx = \\theta_0 + \\theta_1 x_1$$\n",
        "\n",
        "Recall that the parameters of your model are the $\\theta_j$ values. These are\n",
        "the values you will adjust to minimize cost $J(\\theta)$. One way to do this is to\n",
        "use the batch gradient descent algorithm. In batch gradient descent, each\n",
        "iteration performs the update\n",
        "\n",
        "$$ \\theta_j = \\theta_j - \\alpha \\frac{1}{m} \\sum_{i=1}^m \\left( h_\\theta(x^{(i)}) - y^{(i)}\\right)x_j^{(i)} \\qquad \\text{simultaneously update } \\theta_j \\text{ for all } j$$\n",
        "\n",
        "With each step of gradient descent, your parameters $\\theta_j$ come closer to the optimal values that will achieve the lowest cost J($\\theta$).\n",
        "\n",
        "*Implementation Note:* We store each example as a row in the the $X$ matrix in Python `numpy`. To take into account the intercept term ($\\theta_0$), we add an additional first column to $X$ and set it to all ones. This allows us to treat $\\theta_0$ as simply another 'feature'.\n",
        "\n",
        "#### Implementation\n",
        "\n",
        "We have already set up the data for linear regression. In the following cell, we add another dimension to our data to accommodate the $\\theta_0$ intercept term."
      ]
    },
    {
      "cell_type": "code",
      "metadata": {
        "id": "nyS-masnbRhx",
        "colab_type": "code",
        "colab": {}
      },
      "source": [
        "X = df.RM.values.reshape(-1,1)\n",
        "y = df.target.values.reshape(-1,1)\n",
        "X_aug_single = np.column_stack([np.ones((m,1)), X])"
      ],
      "execution_count": 0,
      "outputs": []
    },
    {
      "cell_type": "markdown",
      "metadata": {
        "id": "K_tNE5qCbRhy",
        "colab_type": "text"
      },
      "source": [
        "\n",
        "#### Computing the cost $J(\\theta)$\n",
        "\n",
        "As you perform gradient descent to learn minimize the cost function $J(\\theta)$, it is helpful to monitor the convergence by computing the cost. In this section, you will implement a function to calculate $J(\\theta)$ so you can check the convergence of your gradient descent implementation. \n",
        "\n",
        "Your next task is to complete the code for the function `computeCost` which computes $J(\\theta)$. As you are doing this, remember that the variables $X$ and $y$ are not scalar values. $X$ is a matrix whose rows represent the examples from the training set and $y$ is a vector whose each elemennt represent the value at a given row of $X$.\n",
        "\n",
        "*Implementation Hint* You should be able to implement this in a single line using ```np.mean``` and the ```@``` symbol for matrix multiplication."
      ]
    },
    {
      "cell_type": "code",
      "metadata": {
        "id": "hritYGMmbRhz",
        "colab_type": "code",
        "colab": {}
      },
      "source": [
        "def computeCost(X, y, theta):\n",
        "    \"\"\"\n",
        "    Compute cost for linear regression. Computes the cost of using theta as the\n",
        "    parameter for linear regression to fit the data points in X and y.\n",
        "    \n",
        "    Parameters\n",
        "    ----------\n",
        "    X : array_like\n",
        "        The input dataset of shape (m x n+1), where m is the number of examples,\n",
        "        and n is the number of features. We assume a vector of one's already \n",
        "        appended to the features so we have n+1 columns.\n",
        "    \n",
        "    y : array_like\n",
        "        The values of the function at each data point. This is a vector of\n",
        "        shape (m, ).\n",
        "    \n",
        "    theta : array_like\n",
        "        The parameters for the regression function. This is a vector of \n",
        "        shape (n+1, ).\n",
        "    \n",
        "    Returns\n",
        "    -------\n",
        "    J : float\n",
        "        The value of the regression cost function.\n",
        "    \n",
        "    Instructions\n",
        "    ------------\n",
        "    Compute the cost of a particular choice of theta. \n",
        "    You should set J to the cost.\n",
        "    \"\"\"\n",
        "    \n",
        "    # initialize some useful values\n",
        "    m = y.size  # number of training examples\n",
        "    \n",
        "    # You need to return the following variables correctly\n",
        "    J = 0\n",
        "    \n",
        "    # ====================== YOUR CODE HERE =====================\n",
        "    \n",
        "    # ===========================================================\n",
        "    return J"
      ],
      "execution_count": 0,
      "outputs": []
    },
    {
      "cell_type": "markdown",
      "metadata": {
        "id": "wA9qfZvlbRh1",
        "colab_type": "text"
      },
      "source": [
        "Once you have completed the function, the next step will run `computeCost` and see if you get the right answer."
      ]
    },
    {
      "cell_type": "code",
      "metadata": {
        "id": "jKA5fT_LbRh2",
        "colab_type": "code",
        "colab": {}
      },
      "source": [
        "theta1 = np.array([-40.0, 10.0])\n",
        "J = computeCost(X_aug_single, y, theta=theta1)\n",
        "\n",
        "print('Cost computed = %.2f' % J)\n",
        "print('Expected cost value (approximately) 22.05\\n')\n",
        "\n",
        "# show the raw data\n",
        "plotData(X_aug_single[:,1], y)\n",
        "\n",
        "# show the line\n",
        "X_domain = np.stack([np.ones(2), np.linspace(3,10,2)], axis=1)\n",
        "plt.plot(X_domain[:,1], X_domain@theta1.T,color='g');\n"
      ],
      "execution_count": 0,
      "outputs": []
    },
    {
      "cell_type": "markdown",
      "metadata": {
        "id": "uF9MX5-nbRh-",
        "colab_type": "text"
      },
      "source": [
        "#### Gradient descent\n",
        "\n",
        "Next, you will complete a function which implements gradient descent. The loop structure has been written for you, and you only need to supply the updates to $\\theta$ within each iteration. \n",
        "\n",
        "As you program, make sure you understand what you are trying to optimize and what is being updated. Keep in mind that the cost $J(\\theta)$ is parameterized by the vector $\\theta$, not $X$ and $y$. That is, we minimize the value of $J(\\theta)$ by changing the values of the vector $\\theta$, not by changing $X$ or $y$. A good way to verify that gradient descent is working correctly is to look at the value of $J(\\theta)$ and check that it is decreasing with each step. \n",
        "\n",
        "The starter code for the function `gradientDescent` calls `computeCost` on every iteration and saves the cost to a `python` list. Assuming you have implemented gradient descent and `computeCost` correctly, your value of $J(\\theta)$ should never increase, and should converge to a steady value by the end of the algorithm.\n",
        "\n",
        "---\n",
        "\n",
        "#### WARNING Vectors and matrices in `numpy`\n",
        "\n",
        "A vector in `numpy` is a one dimensional array, for example `np.array([1, 2, 3])` is a vector. A matrix in `numpy` is a two dimensional array, for example `np.array([[1, 2, 3], [4, 5, 6]])`. However, the following is still considered a matrix `np.array([[1, 2, 3]])` since it has two dimensions, even if it has a shape of 1x3 (which looks like a vector).\n",
        "\n",
        "Given the above, the function `np.dot` which we will use for all matrix/vector multiplication has the following properties:\n",
        "- It always performs inner products on vectors. If `x=np.array([1, 2, 3])`, then `np.dot(x, x)` is a scalar.\n",
        "- For matrix-vector multiplication, so if $X$ is a $m\\times n$ matrix and $y$ is a vector of length $m$, then the operation `np.dot(y, X)` considers $y$ as a $1 \\times m$ vector. On the other hand, if $y$ is a vector of length $n$, then the operation `np.dot(X, y)` considers $y$ as a $n \\times 1$ vector.\n",
        "- A vector can be promoted to a matrix using `y[None]` or `[y[np.newaxis]`. That is, if `y = np.array([1, 2, 3])` is a vector of size 3, then `y[None, :]` is a matrix of shape $1 \\times 3$. We can use `y[:, None]` to obtain a shape of $3 \\times 1$."
      ]
    },
    {
      "cell_type": "code",
      "metadata": {
        "id": "R445sdXWbRh_",
        "colab_type": "code",
        "colab": {}
      },
      "source": [
        "def gradientDescent(X, y, theta, alpha, num_iters):\n",
        "    \"\"\"\n",
        "    Performs gradient descent to learn `theta`. Updates theta by taking `num_iters`\n",
        "    gradient steps with learning rate `alpha`.\n",
        "    \n",
        "    Parameters\n",
        "    ----------\n",
        "    X : array_like\n",
        "        The input dataset of shape (m x n+1).\n",
        "    \n",
        "    y : array_like\n",
        "        Value at given features. A vector of shape (m, ).\n",
        "    \n",
        "    theta : array_like\n",
        "        Initial values for the linear regression parameters. \n",
        "        A vector of shape (n+1, ).\n",
        "    \n",
        "    alpha : float\n",
        "        The learning rate.\n",
        "    \n",
        "    num_iters : int\n",
        "        The number of iterations for gradient descent. \n",
        "    \n",
        "    Returns\n",
        "    -------\n",
        "    theta : array_like\n",
        "        The learned linear regression parameters. A vector of shape (n+1, ).\n",
        "    \n",
        "    J_history : list\n",
        "        A python list for the values of the cost function after each iteration.\n",
        "    \n",
        "    Instructions\n",
        "    ------------\n",
        "    Peform a single gradient step on the parameter vector theta.\n",
        "\n",
        "    While debugging, it can be useful to print out the values of \n",
        "    the cost function (computeCost) and gradient here.\n",
        "    \"\"\"\n",
        "    # Initialize some useful values\n",
        "    m = y.shape[0]  # number of training examples\n",
        "    \n",
        "    # make a copy of theta, to avoid changing the original array, since numpy arrays\n",
        "    # are passed by reference to functions\n",
        "    theta = theta.copy()\n",
        "    \n",
        "    J_history = [] # Use a python list to save cost in every iteration\n",
        "    \n",
        "    # scale the room number so that it converges more quickly\n",
        "    X = X.copy()\n",
        "    X[:,-1] /= 8.\n",
        "    \n",
        "    for i in range(num_iters):\n",
        "\n",
        "      # ==================== YOUR CODE HERE =================================\n",
        "\n",
        "      # =====================================================================\n",
        "\n",
        "      # save the cost J in every iteration\n",
        "      J_history.append(computeCost(X, y, theta))\n",
        "    \n",
        "    # scale up the theta value that corresponds to the room number so it works\n",
        "    # on unscaled data\n",
        "    theta.flat[1] /= 8.\n",
        "    \n",
        "    return theta, J_history"
      ],
      "execution_count": 0,
      "outputs": []
    },
    {
      "cell_type": "markdown",
      "metadata": {
        "id": "KLw9EKCxbRiA",
        "colab_type": "text"
      },
      "source": [
        "After you are finished call the implemented `gradientDescent` function and print the computed $\\theta$. Execute the following cell to check your code."
      ]
    },
    {
      "cell_type": "code",
      "metadata": {
        "id": "G0xUnNv6bRiD",
        "colab_type": "code",
        "colab": {}
      },
      "source": [
        "# initialize fitting parameters\n",
        "theta_init = np.zeros((1,2))\n",
        "\n",
        "# some gradient descent setting\n",
        "# (these settings should work well if you exactly\n",
        "# implement the cost function and gradients described above)\n",
        "\n",
        "iterations = 1500\n",
        "alpha = 1.0\n",
        "theta_single, J_history = gradientDescent(X_aug_single, y, theta_init, alpha, iterations)\n",
        "\n",
        "print('Theta found by gradient descent: {} (should be close to [-34.6 9.1])'.format(theta_single))\n",
        "print('Final Cost: {} (should be less than 22)'.format(J_history[-1]))\n",
        "\n",
        "plt.figure()\n",
        "plt.plot(J_history)\n",
        "plt.xlabel('Iteration')\n",
        "plt.ylabel('Cost Function')\n",
        "\n",
        "# plot the linear fit\n",
        "plotData(X, y)\n",
        "plt.plot(X, X_aug_single@theta_single.T, '-')\n",
        "plt.legend(['Training data', 'Linear regression']);\n",
        "\n",
        "plt.figure()\n",
        "plt.plot(y, X_aug_single@theta_single.T, '.')\n",
        "plt.xlabel('True Value');\n",
        "plt.ylabel('Predicted Value');"
      ],
      "execution_count": 0,
      "outputs": []
    },
    {
      "cell_type": "markdown",
      "metadata": {
        "id": "_GpXx0l6bRiJ",
        "colab_type": "text"
      },
      "source": [
        "Your final model should look very similar to the optimal one found using the scikit learn function above."
      ]
    },
    {
      "cell_type": "markdown",
      "metadata": {
        "id": "XA7O_vAhbRiN",
        "colab_type": "text"
      },
      "source": [
        "### Visualizing $J(\\theta)$\n",
        "\n",
        "To understand the cost function $J(\\theta)$ better, you will now plot the cost over a 2-dimensional grid of $\\theta_0$ and $\\theta_1$ values. You will not need to code anything new for this part, but you should understand how the code you have written already is creating these images.\n",
        "\n",
        "In the next cell, the code is set up to calculate $J(\\theta)$ over a grid of values using the `computeCost` function that you wrote. After executing the following cell, you will have a 2-D array of $J(\\theta)$ values. Then, those values are used to produce surface and contour plots of $J(\\theta)$ using the matplotlib `plot_surface` and `contourf` functions. The plots should look something like the following:\n",
        "\n",
        "![](Figures/cost_function.png)\n",
        "\n",
        "The purpose of these graphs is to show you how $J(\\theta)$ varies with changes in $\\theta_0$ and $\\theta_1$. The cost function $J(\\theta)$ is bowl-shaped and has a global minimum. (This is easier to see in the contour plot than in the 3D surface plot). This minimum is the optimal point for $\\theta_0$ and $\\theta_1$, and each step of gradient descent moves closer to this point."
      ]
    },
    {
      "cell_type": "code",
      "metadata": {
        "id": "l3LKKYSpbRiO",
        "colab_type": "code",
        "colab": {}
      },
      "source": [
        "# grid over which we will calculate J\n",
        "theta0_vals = np.linspace(-120, 50, 100)\n",
        "theta1_vals = np.linspace(-10, 20, 100)\n",
        "\n",
        "# initialize J_vals to a matrix of 0's\n",
        "J_vals = np.zeros((theta0_vals.shape[0], theta1_vals.shape[0]))\n",
        "\n",
        "# Fill out J_vals\n",
        "for i, theta0 in enumerate(theta0_vals):\n",
        "    for j, theta1 in enumerate(theta1_vals):\n",
        "        J_vals[i, j] = computeCost(X_aug_single, y, np.array([theta0, theta1]).reshape(1,-1))\n",
        "        \n",
        "# Because of the way meshgrids work in the surf command, we need to\n",
        "# transpose J_vals before calling surf, or else the axes will be flipped\n",
        "J_vals = J_vals.T\n",
        "\n",
        "# surface plot\n",
        "fig = plt.figure(figsize=(12, 5))\n",
        "ax = fig.add_subplot(121, projection='3d')\n",
        "ax.plot_surface(theta0_vals, theta1_vals, J_vals, cmap='viridis')\n",
        "plt.xlabel('theta0')\n",
        "plt.ylabel('theta1')\n",
        "plt.title('Surface')\n",
        "\n",
        "# contour plot\n",
        "# Plot J_vals as 15 contours spaced logarithmically between 0.01 and 100\n",
        "ax = plt.subplot(122)\n",
        "plt.contour(theta0_vals, theta1_vals, J_vals, linewidths=2, cmap='viridis', levels=np.logspace(-2, 3, 20))\n",
        "plt.xlabel('theta0')\n",
        "plt.ylabel('theta1')\n",
        "plt.plot(theta_single.flat[0], theta_single.flat[1], 'ro', ms=10, lw=2)\n",
        "plt.title('Contour, showing minimum');"
      ],
      "execution_count": 0,
      "outputs": []
    },
    {
      "cell_type": "markdown",
      "metadata": {
        "id": "n7Kx2lp9bRiP",
        "colab_type": "text"
      },
      "source": [
        "## Linear regression with multiple variables\n",
        "\n",
        "In this part, you will implement linear regression with multiple variables to predict the prices of houses. Suppose you are selling your house and you want to know what a good market price would be. One way to do this is to first collect information on recent houses sold and make a model of housing prices.\n",
        "\n",
        "### Feature Normalization\n",
        "\n",
        "We start by loading and displaying some values from this dataset. By looking at the values, note that house sizes are about 1000 times the number of bedrooms. When features differ by orders of magnitude, first performing feature scaling can make gradient descent converge much more quickly."
      ]
    },
    {
      "cell_type": "markdown",
      "metadata": {
        "id": "OukYOwtmbRiS",
        "colab_type": "text"
      },
      "source": [
        "Your task here is to complete the code in `featureNormalize` function:\n",
        "- Subtract the mean value of each feature from the dataset.\n",
        "- After subtracting the mean, additionally scale (divide) the feature values by their respective “standard deviations.”\n",
        "\n",
        "The standard deviation is a way of measuring how much variation there is in the range of values of a particular feature (most data points will lie within ±2 standard deviations of the mean); this is an alternative to taking the range of values (max-min). In `numpy`, you can use the `std` function to compute the standard deviation. \n",
        "\n",
        "For example, the quantity `X[:, 0]` contains all the values of $x_1$ (house sizes) in the training set, so `np.std(X[:, 0])` computes the standard deviation of the house sizes.\n",
        "At the time that the function `featureNormalize` is called, the extra column of 1’s corresponding to $x_0 = 1$ has not yet been added to $X$. \n",
        "\n",
        "You will do this for all the features and your code should work with datasets of all sizes (any number of features / examples). Note that each column of the matrix $X$ corresponds to one feature.\n",
        "\n",
        "<div class=\"alert alert-block alert-warning\">\n",
        "**Implementation Note:** When normalizing the features, it is important\n",
        "to store the values used for normalization - the mean value and the standard deviation used for the computations. After learning the parameters\n",
        "from the model, we often want to predict the prices of houses we have not\n",
        "seen before. Given a new x value (living room area and number of bedrooms), we must first normalize x using the mean and standard deviation that we had previously computed from the training set.\n",
        "</div>\n",
        "<a id=\"featureNormalize\"></a>"
      ]
    },
    {
      "cell_type": "code",
      "metadata": {
        "id": "957yX4BdbRiT",
        "colab_type": "code",
        "colab": {}
      },
      "source": [
        "def featureNormalize(X):\n",
        "    \"\"\"\n",
        "    Normalizes the features in X. returns a normalized version of X where\n",
        "    the mean value of each feature is 0 and the standard deviation\n",
        "    is 1. This is often a good preprocessing step to do when working with\n",
        "    learning algorithms.\n",
        "    \n",
        "    Parameters\n",
        "    ----------\n",
        "    X : array_like\n",
        "        The dataset of shape (m x n).\n",
        "    \n",
        "    Returns\n",
        "    -------\n",
        "    X_norm : array_like\n",
        "        The normalized dataset of shape (m x n).\n",
        "    \n",
        "    Instructions\n",
        "    ------------\n",
        "    First, for each feature dimension, compute the mean of the feature\n",
        "    and subtract it from the dataset, storing the mean value in mu. \n",
        "    Next, compute the  standard deviation of each feature and divide\n",
        "    each feature by it's standard deviation, storing the standard deviation \n",
        "    in sigma. \n",
        "    \n",
        "    Note that X is a matrix where each column is a feature and each row is\n",
        "    an example. You needto perform the normalization separately for each feature. \n",
        "    \n",
        "    Hint\n",
        "    ----\n",
        "    You might find the 'np.mean' and 'np.std' functions useful.\n",
        "    \"\"\"\n",
        "    # You need to set these values correctly\n",
        "    X_norm = X.copy()\n",
        "    mu = np.zeros(X.shape[1])\n",
        "    sigma = np.zeros(X.shape[1])\n",
        "\n",
        "    # =========================== YOUR CODE HERE =====================\n",
        "\n",
        "    # ================================================================\n",
        "    \n",
        "    return X_norm, mu, sigma"
      ],
      "execution_count": 0,
      "outputs": []
    },
    {
      "cell_type": "markdown",
      "metadata": {
        "id": "gUvNvay4bRiV",
        "colab_type": "text"
      },
      "source": [
        "Execute the next cell to run the implemented `featureNormalize` function."
      ]
    },
    {
      "cell_type": "code",
      "metadata": {
        "id": "3A4-RoJrbRiV",
        "colab_type": "code",
        "colab": {}
      },
      "source": [
        "X = df.values[:,:-1]\n",
        "y = df.values[:,(-1,)]\n",
        "\n",
        "# call featureNormalize on the loaded data\n",
        "X_norm, mu, sigma = featureNormalize(X)\n",
        "\n",
        "print('Computed mean:', mu)\n",
        "print('Computed standard deviation:', sigma)"
      ],
      "execution_count": 0,
      "outputs": []
    },
    {
      "cell_type": "markdown",
      "metadata": {
        "id": "OsuOFK6mbRid",
        "colab_type": "text"
      },
      "source": [
        "After the `featureNormalize` function is tested, we now add the intercept term to `X_norm`:"
      ]
    },
    {
      "cell_type": "code",
      "metadata": {
        "id": "wVDQNVoBbRie",
        "colab_type": "code",
        "colab": {}
      },
      "source": [
        "# Add intercept term to X\n",
        "X_aug_multi = np.concatenate([np.ones((m, 1)), X_norm], axis=1)"
      ],
      "execution_count": 0,
      "outputs": []
    },
    {
      "cell_type": "markdown",
      "metadata": {
        "id": "DwVXdOMMbRii",
        "colab_type": "text"
      },
      "source": [
        "### Gradient Descent\n",
        "\n",
        "Previously, you implemented gradient descent on a univariate regression problem. The only difference now is that there is one more feature in the matrix $X$. The hypothesis function and the batch gradient descent update\n",
        "rule remain unchanged. \n",
        "\n",
        "You should complete the code for the functions `computeCostMulti` and `gradientDescentMulti` to implement the cost function and gradient descent for linear regression with multiple variables. If your code in the previous part (single variable) already supports multiple variables, you can use it here too.\n",
        "Make sure your code supports any number of features and is well-vectorized.\n",
        "You can use the `shape` property of `numpy` arrays to find out how many features are present in the dataset.\n",
        "\n",
        "<div class=\"alert alert-block alert-warning\">\n",
        "**Implementation Note:** In the multivariate case, the cost function can\n",
        "also be written in the following vectorized form:\n",
        "\n",
        "$$ J(\\theta) = \\frac{1}{2m}(X\\theta - \\vec{y})^T(X\\theta - \\vec{y}) $$\n",
        "\n",
        "where \n",
        "\n",
        "$$ X = \\begin{pmatrix}\n",
        "          - (x^{(1)})^T - \\\\\n",
        "          - (x^{(2)})^T - \\\\\n",
        "          \\vdots \\\\\n",
        "          - (x^{(m)})^T - \\\\ \\\\\n",
        "        \\end{pmatrix} \\qquad \\mathbf{y} = \\begin{bmatrix} y^{(1)} \\\\ y^{(2)} \\\\ \\vdots \\\\ y^{(m)} \\\\\\end{bmatrix}$$\n",
        "\n",
        "the vectorized version is efficient when you are working with numerical computing tools like `numpy`. If you are an expert with matrix operations, you can prove to yourself that the two forms are equivalent.\n",
        "</div>\n",
        "\n",
        "<a id=\"computeCostMulti\"></a>"
      ]
    },
    {
      "cell_type": "code",
      "metadata": {
        "id": "mwUdfKqFbRil",
        "colab_type": "code",
        "colab": {}
      },
      "source": [
        "def computeCostMulti(X, y, theta):\n",
        "    \"\"\"\n",
        "    Compute cost for linear regression with multiple variables.\n",
        "    Computes the cost of using theta as the parameter for linear regression to fit the data points in X and y.\n",
        "    \n",
        "    Parameters\n",
        "    ----------\n",
        "    X : array_like\n",
        "        The dataset of shape (m x n+1).\n",
        "    \n",
        "    y : array_like\n",
        "        A vector of shape (m, ) for the values at a given data point.\n",
        "    \n",
        "    theta : array_like\n",
        "        The linear regression parameters. A vector of shape (n+1, )\n",
        "    \n",
        "    Returns\n",
        "    -------\n",
        "    J : float\n",
        "        The value of the cost function. \n",
        "    \n",
        "    Instructions\n",
        "    ------------\n",
        "    Compute the cost of a particular choice of theta. You should set J to the cost.\n",
        "    \"\"\"\n",
        "    # Initialize some useful values\n",
        "    m = y.shape[0] # number of training examples\n",
        "    \n",
        "    # You need to return the following variable correctly\n",
        "    J = 0\n",
        "    \n",
        "    # ======================= YOUR CODE HERE ===========================\n",
        "    \n",
        "    # ==================================================================\n",
        "    return J\n"
      ],
      "execution_count": 0,
      "outputs": []
    },
    {
      "cell_type": "code",
      "metadata": {
        "id": "YKIwXxeYbRir",
        "colab_type": "code",
        "colab": {}
      },
      "source": [
        "def gradientDescentMulti(X, y, theta, alpha, num_iters):\n",
        "    \"\"\"\n",
        "    Performs gradient descent to learn theta.\n",
        "    Updates theta by taking num_iters gradient steps with learning rate alpha.\n",
        "        \n",
        "    Parameters\n",
        "    ----------\n",
        "    X : array_like\n",
        "        The dataset of shape (m x n+1).\n",
        "    \n",
        "    y : array_like\n",
        "        A vector of shape (m, ) for the values at a given data point.\n",
        "    \n",
        "    theta : array_like\n",
        "        The linear regression parameters. A vector of shape (n+1, )\n",
        "    \n",
        "    alpha : float\n",
        "        The learning rate for gradient descent. \n",
        "    \n",
        "    num_iters : int\n",
        "        The number of iterations to run gradient descent. \n",
        "    \n",
        "    Returns\n",
        "    -------\n",
        "    theta : array_like\n",
        "        The learned linear regression parameters. A vector of shape (n+1, ).\n",
        "    \n",
        "    J_history : list\n",
        "        A python list for the values of the cost function after each iteration.\n",
        "    \n",
        "    Instructions\n",
        "    ------------\n",
        "    Peform a single gradient step on the parameter vector theta.\n",
        "\n",
        "    While debugging, it can be useful to print out the values of \n",
        "    the cost function (computeCost) and gradient here.\n",
        "    \"\"\"\n",
        "    # Initialize some useful values\n",
        "    m = y.shape[0] # number of training examples\n",
        "    \n",
        "    # make a copy of theta, which will be updated by gradient descent\n",
        "    theta = theta.copy()\n",
        "    \n",
        "    J_history = []\n",
        "    \n",
        "    for i in range(num_iters):\n",
        "\n",
        "        # ======================= YOUR CODE HERE ==========================\n",
        "\n",
        "        # =================================================================\n",
        "        \n",
        "        # save the cost J in every iteration\n",
        "        J_history.append(computeCostMulti(X, y, theta))\n",
        "    \n",
        "    return theta, J_history"
      ],
      "execution_count": 0,
      "outputs": []
    },
    {
      "cell_type": "code",
      "metadata": {
        "id": "OHsbopkdbRit",
        "colab_type": "code",
        "colab": {}
      },
      "source": [
        "theta_init = np.zeros((1,11))\n",
        "\n",
        "iterations = 1500\n",
        "alpha = .01\n",
        "theta_multi, J_history = gradientDescentMulti(X_aug_multi, y, theta_init, alpha, iterations)\n",
        "\n",
        "print('Theta found by gradient descent: {}'.format(theta_multi))\n",
        "print('Final Cost: {} (should be around 14.3)'.format(J_history[-1]))\n",
        "\n",
        "plt.figure()\n",
        "plt.plot(J_history)\n",
        "plt.xlabel('Iteration')\n",
        "plt.ylabel('Cost Function')\n",
        "\n",
        "# plot the linear fit\n",
        "plt.figure()\n",
        "plt.plot(y, X_aug_multi@theta_multi.T, '.')\n",
        "plt.xlabel('True Value');\n",
        "plt.ylabel('Predicted Value');"
      ],
      "execution_count": 0,
      "outputs": []
    },
    {
      "cell_type": "markdown",
      "metadata": {
        "id": "Mn9Ew_x6bRiz",
        "colab_type": "text"
      },
      "source": [
        "### Normal Equations\n",
        "\n",
        "In the lecture, you learned that the closed-form solution to linear regression is\n",
        "\n",
        "$$ \\theta = \\left( X^T X\\right)^{-1} X^T\\vec{y}$$\n",
        "\n",
        "Using this formula does not require any feature scaling, and you will get an exact solution in one calculation: there is no “loop until convergence” like in gradient descent. \n",
        "\n",
        "First, we will reload the data to ensure that the variables have not been modified. Remember that while you do not need to scale your features, we still need to add a column of 1’s to the $X$ matrix to have an intercept term ($\\theta_0$). The code in the next cell will add the column of 1’s to X for you."
      ]
    },
    {
      "cell_type": "code",
      "metadata": {
        "id": "NVlK8InBbRi0",
        "colab_type": "code",
        "colab": {}
      },
      "source": [
        "X = df.values[:,:-1]\n",
        "y = df.values[:,(-1,)]\n",
        "X_aug_normal = np.concatenate([np.ones((m, 1)), X], axis=1)"
      ],
      "execution_count": 0,
      "outputs": []
    },
    {
      "cell_type": "markdown",
      "metadata": {
        "id": "MUs9AwVfbRi1",
        "colab_type": "text"
      },
      "source": [
        "Complete the code for the function `normalEqn` below to use the formula above to calculate $\\theta$. \n",
        "\n",
        "<a id=\"normalEqn\"></a>"
      ]
    },
    {
      "cell_type": "code",
      "metadata": {
        "id": "u-DgNCxrbRi3",
        "colab_type": "code",
        "colab": {}
      },
      "source": [
        "def normalEqn(X, y):\n",
        "    \"\"\"\n",
        "    Computes the closed-form solution to linear regression using the normal equations.\n",
        "    \n",
        "    Parameters\n",
        "    ----------\n",
        "    X : array_like\n",
        "        The dataset of shape (m x n+1).\n",
        "    \n",
        "    y : array_like\n",
        "        The value at each data point. A vector of shape (m, ).\n",
        "    \n",
        "    Returns\n",
        "    -------\n",
        "    theta : array_like\n",
        "        Estimated linear regression parameters. A vector of shape (n+1, ).\n",
        "    \n",
        "    Instructions\n",
        "    ------------\n",
        "    Complete the code to compute the closed form solution to linear\n",
        "    regression and put the result in theta.\n",
        "    \n",
        "    Hint\n",
        "    ----\n",
        "    Look up the function `np.linalg.pinv` for computing matrix inverse.\n",
        "    \"\"\"\n",
        "    theta = np.zeros(X.shape[1])\n",
        "    \n",
        "    # ===================== YOUR CODE HERE ============================\n",
        "    \n",
        "    # =================================================================\n",
        "    return theta"
      ],
      "execution_count": 0,
      "outputs": []
    },
    {
      "cell_type": "markdown",
      "metadata": {
        "id": "AEYwag14bRjG",
        "colab_type": "text"
      },
      "source": [
        ""
      ]
    },
    {
      "cell_type": "code",
      "metadata": {
        "id": "q3-mx9TJbRjH",
        "colab_type": "code",
        "colab": {}
      },
      "source": [
        "# Calculate the parameters from the normal equation\n",
        "theta_normal = normalEqn(X_aug_normal, y);\n",
        "\n",
        "print('Theta found by gradient descent: {}'.format(theta_normal))\n",
        "print('Final Cost: {} (should be close to 14.31)'.format(computeCostMulti(X_aug_normal,y,theta_normal)))\n",
        "\n",
        "# plot the linear fit\n",
        "plt.figure()\n",
        "plt.plot(y, X_aug_normal@theta_normal.T, '.')\n",
        "plt.xlabel('True Value');\n",
        "plt.ylabel('Predicted Value');"
      ],
      "execution_count": 0,
      "outputs": []
    },
    {
      "cell_type": "code",
      "metadata": {
        "id": "7ba01DG-0EET",
        "colab_type": "code",
        "colab": {}
      },
      "source": [
        "print(\"Final Cost (grad, single): {}\".format(computeCost(X_aug_single,y,theta_single)))\n",
        "print(\"Final Cost (grad, multi): {}\".format(computeCostMulti(X_aug_multi,y,theta_multi)))\n",
        "print(\"Final Cost (normal): {}\".format(computeCostMulti(X_aug_normal,y,theta_normal)))"
      ],
      "execution_count": 0,
      "outputs": []
    }
  ]
}